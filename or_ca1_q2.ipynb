{
  "cells": [
    {
      "cell_type": "code",
      "execution_count": 1,
      "metadata": {
        "id": "1b2dksU9koU8"
      },
      "outputs": [],
      "source": [
        "import numpy as np"
      ]
    },
    {
      "cell_type": "code",
      "execution_count": 2,
      "metadata": {
        "id": "Q9QnDGEMr8sP"
      },
      "outputs": [],
      "source": [
        "def map_creator(row, column, location_of_obs):\n",
        "  map = np.zeros([row, column])\n",
        "  for loc in location_of_obs:\n",
        "    x1, x2 = loc                   \n",
        "    map[x1, x2] = 1;\n",
        "  return map"
      ]
    },
    {
      "cell_type": "code",
      "execution_count": 3,
      "metadata": {
        "id": "677a58uBDF08"
      },
      "outputs": [],
      "source": [
        "def  find_paths(i, j, x1, x2, map):\n",
        "    if(i == x1 or j == x2):\n",
        "      return 0\n",
        "    if(map[i][j] == 1):\n",
        "      return 0\n",
        "    if(i == x1-1 and j == x2-1):\n",
        "      return 1\n",
        "    return find_paths(i+1, j, x1, x2, map) + find_paths(i, j+1, x1, x2, map) + find_paths(i+1, j+1, x1, x2, map)"
      ]
    },
    {
      "cell_type": "code",
      "execution_count": 4,
      "metadata": {
        "id": "WuT2ZkS1r1WW"
      },
      "outputs": [],
      "source": [
        "def path_counter(map):\n",
        "    x1,x2 = len(map),len(map[0])\n",
        "    return find_paths(0, 0, x1, x2, map)"
      ]
    },
    {
      "cell_type": "code",
      "execution_count": 5,
      "metadata": {
        "colab": {
          "base_uri": "https://localhost:8080/"
        },
        "id": "wSpN7vyQlSal",
        "outputId": "255c0735-0a9f-4f0a-e143-066a3831f403"
      },
      "outputs": [
        {
          "name": "stdout",
          "output_type": "stream",
          "text": [
            "318\n"
          ]
        }
      ],
      "source": [
        "map = map_creator(6, 6, [[2, 1], [2, 3], [4, 3]])\n",
        "print(path_counter(map))\t"
      ]
    }
  ],
  "metadata": {
    "colab": {
      "provenance": []
    },
    "kernelspec": {
      "display_name": "Python 3",
      "language": "python",
      "name": "python3"
    },
    "language_info": {
      "codemirror_mode": {
        "name": "ipython",
        "version": 3
      },
      "file_extension": ".py",
      "mimetype": "text/x-python",
      "name": "python",
      "nbconvert_exporter": "python",
      "pygments_lexer": "ipython3",
      "version": "3.10.4 (tags/v3.10.4:9d38120, Mar 23 2022, 23:13:41) [MSC v.1929 64 bit (AMD64)]"
    },
    "vscode": {
      "interpreter": {
        "hash": "cab741fc1bb3a8031f5652eb2c54d000bb044c26b1848141a88208e566ada8dc"
      }
    }
  },
  "nbformat": 4,
  "nbformat_minor": 0
}
